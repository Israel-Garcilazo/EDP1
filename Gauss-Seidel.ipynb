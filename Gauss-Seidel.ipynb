{
  "nbformat": 4,
  "nbformat_minor": 0,
  "metadata": {
    "colab": {
      "provenance": [],
      "authorship_tag": "ABX9TyOqRMtnORfuCy14/tVWmwHv",
      "include_colab_link": true
    },
    "kernelspec": {
      "name": "python3",
      "display_name": "Python 3"
    },
    "language_info": {
      "name": "python"
    }
  },
  "cells": [
    {
      "cell_type": "markdown",
      "metadata": {
        "id": "view-in-github",
        "colab_type": "text"
      },
      "source": [
        "<a href=\"https://colab.research.google.com/github/Israel-Garcilazo/EDP1/blob/main/Gauss-Seidel.ipynb\" target=\"_parent\"><img src=\"https://colab.research.google.com/assets/colab-badge.svg\" alt=\"Open In Colab\"/></a>"
      ]
    },
    {
      "cell_type": "code",
      "source": [
        "import numpy as np\n",
        "import pandas as pd\n",
        "\n",
        "# definimos una función que calculará las iteraciones.\n",
        "def gauss_seidel(A, b, X0, tol, Nmax):\n",
        "    n = len(b)\n",
        "    X = X0.copy()\n",
        "    tabla = []\n",
        "\n",
        "    # iniciamos el ciclo que trabajará en las aproximaciones.\n",
        "    for k in range(1, Nmax+1):\n",
        "        X_new = X.copy()\n",
        "        for i in range(n):\n",
        "            suma1 = sum(A[i][j]*X_new[j] for j in range(i))        # usa valores ya actualizados\n",
        "            suma2 = sum(A[i][j]*X[j] for j in range(i+1, n))       # usa valores viejos aún no actualizados\n",
        "            X_new[i] = (b[i] - suma1 - suma2)/A[i][i]\n",
        "\n",
        "        error = np.linalg.norm(X_new - X, ord=np.inf)\n",
        "        tabla.append([k] + list(X_new) + [error])\n",
        "\n",
        "        if error < tol:\n",
        "            return X_new, tabla, True\n",
        "        X = X_new\n",
        "\n",
        "    return X, tabla, False\n",
        "\n",
        "\n",
        "# Aquí se solicitan los datos a ingresar:\n",
        "n = int(input(\"Ingrese el número de incógnitas (n): \"))\n",
        "\n",
        "print(\"\\nIngrese la matriz A fila por fila (separar elementos con espacio):\")\n",
        "A = np.array([list(map(float, input(f\"Fila {i+1}: \").split())) for i in range(n)])\n",
        "\n",
        "print(\"\\nIngrese el vector b (separar elementos con espacio):\")\n",
        "b = np.array(list(map(float, input().split())))\n",
        "\n",
        "print(\"\\nIngrese el vector inicial X0 (separar elementos con espacio):\")\n",
        "X0 = np.array(list(map(float, input().split())))\n",
        "\n",
        "tol = float(input(\"\\nIngrese el error permitido: \"))\n",
        "Nmax = int(input(\"Ingrese el número máximo de iteraciones: \"))\n",
        "\n",
        "# Se ajustan los valores previo a la elaboración de la tabla.\n",
        "X_aprox, tabla, exito = gauss_seidel(A, b, X0, tol, Nmax)\n",
        "\n",
        "# Se acomodan los datos en una tabla y se imprime.\n",
        "cols = [\"Iteración\"] + [f\"x{i+1}\" for i in range(n)] + [\"Error\"]\n",
        "df = pd.DataFrame(tabla, columns=cols)\n",
        "print(\"\\nTabla de iteraciones:\")\n",
        "print(df.to_string(index=False))\n",
        "\n",
        "# Este ciclo imprime el resultado si se alcanzó la convergencia para el error ingresado en el número de iteraciones permitidas.\n",
        "if exito:\n",
        "    print(\"\\nEl procedimiento fue exitoso.\")\n",
        "else:\n",
        "    print(\"\\nEl procedimiento fue fallido.\")"
      ],
      "metadata": {
        "id": "c3pqjmgncRbt"
      },
      "execution_count": null,
      "outputs": []
    }
  ]
}