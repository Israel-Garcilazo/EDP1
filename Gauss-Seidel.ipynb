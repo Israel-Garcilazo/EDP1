{
  "nbformat": 4,
  "nbformat_minor": 0,
  "metadata": {
    "colab": {
      "provenance": [],
      "authorship_tag": "ABX9TyOqRMtnORfuCy14/tVWmwHv",
      "include_colab_link": true
    },
    "kernelspec": {
      "name": "python3",
      "display_name": "Python 3"
    },
    "language_info": {
      "name": "python"
    }
  },
  "cells": [
    {
      "cell_type": "markdown",
      "metadata": {
        "id": "view-in-github",
        "colab_type": "text"
      },
      "source": [
        "<a href=\"https://colab.research.google.com/github/Israel-Garcilazo/EDP1/blob/main/Gauss-Seidel.ipynb\" target=\"_parent\"><img src=\"https://colab.research.google.com/assets/colab-badge.svg\" alt=\"Open In Colab\"/></a>"
      ]
    },
    {
      "cell_type": "code",
      "source": [
        "import numpy as np\n",
        "import pandas as pd\n",
        "\n",
        "# definimos una función que calculará las iteraciones.\n",
        "def gauss_seidel(A, b, X0, tol, Nmax):\n",
        "    n = len(b)\n",
        "    X = X0.copy()\n",
        "    tabla = []\n",
        "\n",
        "    # iniciamos el ciclo que trabajará en las aproximaciones.\n",
        "    for k in range(1, Nmax+1):\n",
        "        X_new = X.copy()\n",
        "        for i in range(n):\n",
        "            suma1 = sum(A[i][j]*X_new[j] for j in range(i))        # usa valores ya actualizados\n",
        "            suma2 = sum(A[i][j]*X[j] for j in range(i+1, n))       # usa valores viejos aún no actualizados\n",
        "            X_new[i] = (b[i] - suma1 - suma2)/A[i][i]\n",
        "\n",
        "        error = np.linalg.norm(X_new - X, ord=np.inf)\n",
        "        tabla.append([k] + list(X_new) + [error])\n",
        "\n",
        "        if error < tol:\n",
        "            return X_new, tabla, True\n",
        "        X = X_new\n",
        "\n",
        "    return X, tabla, False\n",
        "\n",
        "\n",
        "# Aquí se solicitan los datos a ingresar:\n",
        "n = int(input(\"Ingrese el número de incógnitas (n): \"))\n",
        "\n",
        "print(\"\\nIngrese la matriz A fila por fila (separar elementos con espacio):\")\n",
        "A = np.array([list(map(float, input(f\"Fila {i+1}: \").split())) for i in range(n)])\n",
        "\n",
        "print(\"\\nIngrese el vector b (separar elementos con espacio):\")\n",
        "b = np.array(list(map(float, input().split())))\n",
        "\n",
        "print(\"\\nIngrese el vector inicial X0 (separar elementos con espacio):\")\n",
        "X0 = np.array(list(map(float, input().split())))\n",
        "\n",
        "tol = float(input(\"\\nIngrese el error permitido: \"))\n",
        "Nmax = int(input(\"Ingrese el número máximo de iteraciones: \"))\n",
        "\n",
        "# Se ajustan los valores previo a la elaboración de la tabla.\n",
        "X_aprox, tabla, exito = gauss_seidel(A, b, X0, tol, Nmax)\n",
        "\n",
        "# Se acomodan los datos en una tabla y se imprime.\n",
        "cols = [\"Iteración\"] + [f\"x{i+1}\" for i in range(n)] + [\"Error\"]\n",
        "df = pd.DataFrame(tabla, columns=cols)\n",
        "print(\"\\nTabla de iteraciones:\")\n",
        "print(df.to_string(index=False))\n",
        "\n",
        "# Este ciclo imprime el resultado si se alcanzó la convergencia para el error ingresado en el número de iteraciones permitidas.\n",
        "if exito:\n",
        "    print(\"\\nEl procedimiento fue exitoso.\")\n",
        "else:\n",
        "    print(\"\\nEl procedimiento fue fallido.\")"
      ],
      "metadata": {
        "id": "c3pqjmgncRbt",
        "outputId": "065428ff-4c67-438c-933f-03c6eb1eb5f5",
        "colab": {
          "base_uri": "https://localhost:8080/"
        }
      },
      "execution_count": 3,
      "outputs": [
        {
          "output_type": "stream",
          "name": "stdout",
          "text": [
            "Ingrese el número de incógnitas (n): 9\n",
            "\n",
            "Ingrese la matriz A fila por fila (separar elementos con espacio):\n",
            "Fila 1: 4 -1 0 -1 0 0 0 0 0\n",
            "Fila 2: -1 4 -1 0 -1 0 0 0 0 \n",
            "Fila 3: 0 -1 4 0 0 -1 0 0 0\n",
            "Fila 4: -1 0 0 4 -1 0 0 -1 0\n",
            "Fila 5: 0 -1 0 -1 4 -1 0 -1 0\n",
            "Fila 6: 0 0 -1 0 -1 4 0 0 -1\n",
            "Fila 7: 0 0 0 -1 0 0 4 -1 0\n",
            "Fila 8: 0 0 0 0 -1 0 -1 4 -1\n",
            "Fila 9: 0 0 0 0 0 -1 0 -1 4\n",
            "\n",
            "Ingrese el vector b (separar elementos con espacio):\n",
            "0 0 0.5 0 0 1 0.75 1 2.5\n",
            "\n",
            "Ingrese el vector inicial X0 (separar elementos con espacio):\n",
            "0.259259259 0.259259259 0.259259259 0.259259259 0.259259259 0.259259259 0.259259259 0.259259259 0.259259259\n",
            "\n",
            "Ingrese el error permitido: 0.0001\n",
            "Ingrese el número máximo de iteraciones: 100\n",
            "\n",
            "Tabla de iteraciones:\n",
            " Iteración       x1       x2       x3       x4       x5       x6       x7       x8       x9    Error\n",
            "         1 0.129630 0.162037 0.230324 0.162037 0.210648 0.425058 0.292824 0.440683 0.841435 0.582176\n",
            "         2 0.081019 0.130498 0.263889 0.183087 0.294831 0.600039 0.343443 0.619927 0.929992 0.179244\n",
            "         3 0.078396 0.159279 0.314830 0.248289 0.406884 0.662926 0.404554 0.685357 0.962071 0.112052\n",
            "         4 0.101892 0.205901 0.342207 0.298533 0.463179 0.691864 0.433473 0.714681 0.976636 0.056296\n",
            "         5 0.126109 0.232874 0.356185 0.325992 0.491353 0.706043 0.447668 0.728914 0.983739 0.028173\n",
            "         6 0.139716 0.246813 0.363214 0.339996 0.505442 0.713099 0.454728 0.735977 0.987269 0.014089\n",
            "         7 0.146702 0.253840 0.366735 0.347030 0.512486 0.716623 0.458252 0.739502 0.989031 0.007045\n",
            "         8 0.150217 0.257360 0.368496 0.350551 0.516009 0.718384 0.460013 0.741263 0.989912 0.003522\n",
            "         9 0.151978 0.259121 0.369376 0.352312 0.517770 0.719264 0.460894 0.742144 0.990352 0.001761\n",
            "        10 0.152858 0.260001 0.369816 0.353193 0.518651 0.719705 0.461334 0.742584 0.990572 0.000881\n",
            "        11 0.153299 0.260441 0.370037 0.353633 0.519091 0.719925 0.461554 0.742804 0.990682 0.000440\n",
            "        12 0.153519 0.260662 0.370147 0.353854 0.519311 0.720035 0.461664 0.742914 0.990737 0.000220\n",
            "        13 0.153629 0.260772 0.370202 0.353964 0.519421 0.720090 0.461720 0.742970 0.990765 0.000110\n",
            "        14 0.153684 0.260827 0.370229 0.354019 0.519476 0.720118 0.461747 0.742997 0.990779 0.000055\n",
            "\n",
            "El procedimiento fue exitoso.\n"
          ]
        }
      ]
    }
  ]
}