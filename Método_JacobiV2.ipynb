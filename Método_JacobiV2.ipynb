{
  "nbformat": 4,
  "nbformat_minor": 0,
  "metadata": {
    "colab": {
      "provenance": [],
      "authorship_tag": "ABX9TyPje18w7wy4n1SutCbnALKy",
      "include_colab_link": true
    },
    "kernelspec": {
      "name": "python3",
      "display_name": "Python 3"
    },
    "language_info": {
      "name": "python"
    }
  },
  "cells": [
    {
      "cell_type": "markdown",
      "metadata": {
        "id": "view-in-github",
        "colab_type": "text"
      },
      "source": [
        "<a href=\"https://colab.research.google.com/github/Israel-Garcilazo/EDP1/blob/main/M%C3%A9todo_JacobiV2.ipynb\" target=\"_parent\"><img src=\"https://colab.research.google.com/assets/colab-badge.svg\" alt=\"Open In Colab\"/></a>"
      ]
    },
    {
      "cell_type": "code",
      "execution_count": null,
      "metadata": {
        "colab": {
          "base_uri": "https://localhost:8080/"
        },
        "id": "AxCThgSDfjbB",
        "outputId": "96831b8d-e172-4e64-b4ed-9d8e40d0f820"
      },
      "outputs": [
        {
          "output_type": "stream",
          "name": "stdout",
          "text": [
            "Ingrese el número de incógnitas (n): 4\n",
            "\n",
            "Ingrese la matriz A fila por fila (separar elementos con espacio):\n",
            "Fila 1: 4 -1 -1 0\n",
            "Fila 2: -1 4 0 -1\n",
            "Fila 3: -1 0 4 -1\n",
            "Fila 4: 0 -1 -1 4\n",
            "\n",
            "Ingrese el vector b (separar elementos con espacio):\n",
            "0 0.666666 0.888888 1.555555\n",
            "\n",
            "Ingrese el vector inicial X0 (separar elementos con espacio):\n",
            "0.259259 0.259259 0.259259 0.259259\n",
            "\n",
            "Ingrese la tolerancia (error permitido): 0.0001\n",
            "Ingrese el número máximo de iteraciones: 25\n",
            "\n",
            "Tabla de iteraciones:\n",
            " Iteración       x1       x2       x3       x4    Error\n",
            "         1 0.129630 0.296296 0.351851 0.518518 0.259259\n",
            "         2 0.162037 0.328703 0.384259 0.550926 0.032407\n",
            "         3 0.178241 0.344907 0.400463 0.567129 0.016204\n",
            "         4 0.186342 0.353009 0.408564 0.575231 0.008102\n",
            "         5 0.190393 0.357060 0.412615 0.579282 0.004051\n",
            "         6 0.192419 0.359085 0.414641 0.581308 0.002025\n",
            "         7 0.193432 0.360098 0.415654 0.582320 0.001013\n",
            "         8 0.193938 0.360604 0.416160 0.582827 0.000506\n",
            "         9 0.194191 0.360858 0.416413 0.583080 0.000253\n",
            "        10 0.194318 0.360984 0.416540 0.583206 0.000127\n",
            "        11 0.194381 0.361048 0.416603 0.583270 0.000063\n",
            "\n",
            "El procedimiento fue exitoso.\n",
            "Aproximación final: [0.194381   0.36104754 0.41660304 0.58326975]\n"
          ]
        }
      ],
      "source": [
        "\n",
        "    print(\"\\nSe excedió el número máximo de iteraciones.\")\n",
        "print(\"Aproximación final:\", X_aprox)#Importamos numpy para los calculos numéricos y pandas para los dataframes de las tablas de resultados.\n",
        "import numpy as np\n",
        "import pandas as pd\n",
        "\n",
        "# definimos una función que calculará las iteraciones.\n",
        "def jacobi(A, b, X0, tol, Nmax):\n",
        "    n = len(b)\n",
        "    X = X0.copy()\n",
        "    tabla = []\n",
        "\n",
        "    # iniciamos el ciclo que trabajará en las aproximaciones.\n",
        "    for k in range(1, Nmax+1):\n",
        "        X_new = np.zeros_like(X, dtype=float)\n",
        "        for i in range(n):\n",
        "            suma = sum(A[i][j]*X[j] for j in range(n) if j != i)\n",
        "            X_new[i] = (b[i] - suma)/A[i][i]\n",
        "\n",
        "        error = np.linalg.norm(X_new - X, ord=np.inf)\n",
        "        tabla.append([k] + list(X_new) + [error])\n",
        "\n",
        "        if error < tol:\n",
        "            return X_new, tabla, True\n",
        "        X = X_new\n",
        "\n",
        "    return X, tabla, False\n",
        "\n",
        "\n",
        "# Aquí se solicitan los datos a ingresar:\n",
        "n = int(input(\"Ingrese el número de incógnitas (n): \"))\n",
        "\n",
        "print(\"\\nIngrese la matriz A fila por fila (separar elementos con espacio):\")\n",
        "A = np.array([list(map(float, input(f\"Fila {i+1}: \").split())) for i in range(n)])\n",
        "\n",
        "print(\"\\nIngrese el vector b (separar elementos con espacio):\")\n",
        "b = np.array(list(map(float, input().split())))\n",
        "\n",
        "print(\"\\nIngrese el vector inicial X0 (separar elementos con espacio):\")\n",
        "X0 = np.array(list(map(float, input().split())))\n",
        "\n",
        "tol = float(input(\"\\nIngrese el error permitido: \"))\n",
        "Nmax = int(input(\"Ingrese el número máximo de iteraciones: \"))\n",
        "\n",
        "# Se ajustan los valores previo a la elaboración de la tabla.\n",
        "X_aprox, tabla, exito = jacobi(A, b, X0, tol, Nmax)\n",
        "\n",
        "# Se acomodan los datos en una tabla y se imprime.\n",
        "cols = [\"Iteración\"] + [f\"x{i+1}\" for i in range(n)] + [\"Error\"]\n",
        "df = pd.DataFrame(tabla, columns=cols)\n",
        "print(\"\\nTabla de iteraciones:\")\n",
        "print(df.to_string(index=False))\n",
        "\n",
        "# Este ciclo imprime el resultado si se alcanzo la convergencia para el error ingresado en el número de iteraciones permitidas.\n",
        "if exito:\n",
        "    print(\"\\nEl procedimiento fue exitoso.\")\n",
        "else:\n",
        "  print(\"\\nEl procedimiento fue fallido.\")"
      ]
    }
  ]
}